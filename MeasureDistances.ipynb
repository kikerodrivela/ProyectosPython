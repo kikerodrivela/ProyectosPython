{
  "nbformat": 4,
  "nbformat_minor": 0,
  "metadata": {
    "colab": {
      "name": "MeasureDistances.ipynb",
      "provenance": [],
      "collapsed_sections": [],
      "authorship_tag": "ABX9TyOTQH9JFl+lShF3IqxqAe9Q",
      "include_colab_link": true
    },
    "kernelspec": {
      "name": "python3",
      "display_name": "Python 3"
    },
    "language_info": {
      "name": "python"
    },
    "widgets": {
      "application/vnd.jupyter.widget-state+json": {
        "94090ec19721482a9d8508c31077333d": {
          "model_module": "jupyter-leaflet",
          "model_name": "LeafletMapModel",
          "model_module_version": "^0.15.0",
          "state": {
            "_view_name": "LeafletMapView",
            "keyboard_pan_offset": 80,
            "right": 394051,
            "tap": true,
            "_view_module": "jupyter-leaflet",
            "max_zoom": 18,
            "_model_module_version": "^0.15.0",
            "_view_count": null,
            "zoom_snap": 1,
            "min_zoom": 1,
            "bounce_at_zoom_limits": true,
            "keyboard": true,
            "north": 52.37308399454029,
            "scroll_wheel_zoom": false,
            "dragging": true,
            "_model_module": "jupyter-leaflet",
            "zoom_delta": 1,
            "close_popup_on_click": true,
            "fullscreen": false,
            "style": "IPY_MODEL_d1d13d5bae9b4711902e2fff3cc16cea",
            "layout": "IPY_MODEL_f71263102ac04c158809fbf5eb745037",
            "bottom": 86547,
            "prefer_canvas": false,
            "inertia_max_speed": 1500,
            "top": 86147,
            "box_zoom": true,
            "controls": [
              "IPY_MODEL_b8522cdfa9e744489d800d581c4ebcb3",
              "IPY_MODEL_372e23f90d2249308cf73e38a552965e"
            ],
            "default_style": "IPY_MODEL_6a6c8634cac14d9d8f0e43ccfd93ba5e",
            "east": 361.14669799804693,
            "double_click_zoom": true,
            "interpolation": "bilinear",
            "layers": [
              "IPY_MODEL_a440c68437844b5abc1c53019290cabb",
              "IPY_MODEL_a69175dfb6a445b588622417a9caae45"
            ],
            "dragging_style": "IPY_MODEL_403079cb497c44b4b952551a208bf378",
            "_dom_classes": [],
            "zoom_animation_threshold": 4,
            "_model_name": "LeafletMapModel",
            "zoom_start": 12,
            "modisdate": "2022-02-06",
            "keyboard_zoom_offset": 1,
            "inertia_deceleration": 3000,
            "inertia": true,
            "crs": {
              "name": "EPSG3857",
              "custom": false
            },
            "center": [
              52.204793,
              360.121558
            ],
            "zoom": 10,
            "world_copy_jump": false,
            "_view_module_version": "^0.15.0",
            "window_url": "https://k9igdzvxugr-496ff2e9c6d22116-0-colab.googleusercontent.com/outputframe.html?vrz=colab-20220204-060054-RC00_426361649",
            "tap_tolerance": 15,
            "west": 180,
            "touch_zoom": true,
            "options": [
              "bounce_at_zoom_limits",
              "box_zoom",
              "center",
              "close_popup_on_click",
              "double_click_zoom",
              "dragging",
              "fullscreen",
              "inertia",
              "inertia_deceleration",
              "inertia_max_speed",
              "interpolation",
              "keyboard",
              "keyboard_pan_offset",
              "keyboard_zoom_offset",
              "max_zoom",
              "min_zoom",
              "prefer_canvas",
              "scroll_wheel_zoom",
              "tap",
              "tap_tolerance",
              "touch_zoom",
              "world_copy_jump",
              "zoom",
              "zoom_animation_threshold",
              "zoom_delta",
              "zoom_snap",
              "zoom_start"
            ],
            "south": 52.036442273206845,
            "left": 392558
          }
        },
        "d1d13d5bae9b4711902e2fff3cc16cea": {
          "model_module": "jupyter-leaflet",
          "model_name": "LeafletMapStyleModel",
          "model_module_version": "^0.15.0",
          "state": {
            "_view_name": "StyleView",
            "_model_name": "LeafletMapStyleModel",
            "_view_module": "@jupyter-widgets/base",
            "_model_module_version": "^0.15.0",
            "_view_count": null,
            "cursor": "grab",
            "_view_module_version": "1.2.0",
            "_model_module": "jupyter-leaflet"
          }
        },
        "f71263102ac04c158809fbf5eb745037": {
          "model_module": "@jupyter-widgets/base",
          "model_name": "LayoutModel",
          "model_module_version": "1.2.0",
          "state": {
            "_view_name": "LayoutView",
            "grid_template_rows": null,
            "right": null,
            "justify_content": null,
            "_view_module": "@jupyter-widgets/base",
            "overflow": null,
            "_model_module_version": "1.2.0",
            "_view_count": null,
            "flex_flow": null,
            "width": null,
            "min_width": null,
            "border": null,
            "align_items": null,
            "bottom": null,
            "_model_module": "@jupyter-widgets/base",
            "top": null,
            "grid_column": null,
            "overflow_y": null,
            "overflow_x": null,
            "grid_auto_flow": null,
            "grid_area": null,
            "grid_template_columns": null,
            "flex": null,
            "_model_name": "LayoutModel",
            "justify_items": null,
            "grid_row": null,
            "max_height": null,
            "align_content": null,
            "visibility": null,
            "align_self": null,
            "height": null,
            "min_height": null,
            "padding": null,
            "grid_auto_rows": null,
            "grid_gap": null,
            "max_width": null,
            "order": null,
            "_view_module_version": "1.2.0",
            "grid_template_areas": null,
            "object_position": null,
            "object_fit": null,
            "grid_auto_columns": null,
            "margin": null,
            "display": null,
            "left": null
          }
        },
        "b8522cdfa9e744489d800d581c4ebcb3": {
          "model_module": "jupyter-leaflet",
          "model_name": "LeafletZoomControlModel",
          "model_module_version": "^0.15.0",
          "state": {
            "_view_name": "LeafletZoomControlView",
            "zoom_in_title": "Zoom in",
            "_model_name": "LeafletZoomControlModel",
            "_view_module": "jupyter-leaflet",
            "_model_module_version": "^0.15.0",
            "_view_count": null,
            "_view_module_version": "^0.15.0",
            "zoom_out_title": "Zoom out",
            "position": "topleft",
            "zoom_in_text": "+",
            "_model_module": "jupyter-leaflet",
            "options": [
              "position",
              "zoom_in_text",
              "zoom_in_title",
              "zoom_out_text",
              "zoom_out_title"
            ],
            "zoom_out_text": "-"
          }
        },
        "372e23f90d2249308cf73e38a552965e": {
          "model_module": "jupyter-leaflet",
          "model_name": "LeafletAttributionControlModel",
          "model_module_version": "^0.15.0",
          "state": {
            "_view_name": "LeafletAttributionControlView",
            "prefix": "ipyleaflet",
            "_model_name": "LeafletAttributionControlModel",
            "_view_module": "jupyter-leaflet",
            "_model_module_version": "^0.15.0",
            "_view_count": null,
            "_view_module_version": "^0.15.0",
            "position": "bottomright",
            "_model_module": "jupyter-leaflet",
            "options": [
              "position",
              "prefix"
            ]
          }
        },
        "6a6c8634cac14d9d8f0e43ccfd93ba5e": {
          "model_module": "jupyter-leaflet",
          "model_name": "LeafletMapStyleModel",
          "model_module_version": "^0.15.0",
          "state": {
            "_view_name": "StyleView",
            "_model_name": "LeafletMapStyleModel",
            "_view_module": "@jupyter-widgets/base",
            "_model_module_version": "^0.15.0",
            "_view_count": null,
            "cursor": "grab",
            "_view_module_version": "1.2.0",
            "_model_module": "jupyter-leaflet"
          }
        },
        "a440c68437844b5abc1c53019290cabb": {
          "model_module": "jupyter-leaflet",
          "model_name": "LeafletTileLayerModel",
          "model_module_version": "^0.15.0",
          "state": {
            "_view_name": "LeafletTileLayerView",
            "_view_module": "jupyter-leaflet",
            "max_zoom": 19,
            "_model_module_version": "^0.15.0",
            "_view_count": null,
            "visible": true,
            "min_zoom": 1,
            "tms": false,
            "_model_module": "jupyter-leaflet",
            "loading": false,
            "bottom": true,
            "no_wrap": false,
            "tile_size": 256,
            "popup_min_width": 50,
            "opacity": 1,
            "popup": null,
            "attribution": "&copy; <a href=\"https://www.openstreetmap.org/copyright\">OpenStreetMap</a> contributors",
            "_model_name": "LeafletTileLayerModel",
            "max_native_zoom": 18,
            "base": true,
            "min_native_zoom": 0,
            "show_loading": false,
            "name": "OpenStreetMap.Mapnik",
            "url": "https://a.tile.openstreetmap.org/{z}/{x}/{y}.png",
            "popup_max_height": null,
            "popup_max_width": 300,
            "detect_retina": false,
            "_view_module_version": "^0.15.0",
            "options": [
              "attribution",
              "detect_retina",
              "max_native_zoom",
              "max_zoom",
              "min_native_zoom",
              "min_zoom",
              "no_wrap",
              "tile_size",
              "tms"
            ]
          }
        },
        "a69175dfb6a445b588622417a9caae45": {
          "model_module": "jupyter-leaflet",
          "model_name": "LeafletMarkerModel",
          "model_module_version": "^0.15.0",
          "state": {
            "_view_name": "LeafletMarkerView",
            "rotation_angle": 90,
            "_view_module": "jupyter-leaflet",
            "_model_module_version": "^0.15.0",
            "_view_count": null,
            "visible": true,
            "keyboard": true,
            "alt": "",
            "_model_module": "jupyter-leaflet",
            "bottom": false,
            "location": [
              52.204793,
              360.121558
            ],
            "popup_min_width": 50,
            "opacity": 1,
            "popup": null,
            "_model_name": "LeafletMarkerModel",
            "rotation_origin": "22px 94px",
            "base": false,
            "icon": "IPY_MODEL_629b7b74476441a38bfad6d3e00b1b4f",
            "rise_offset": 250,
            "name": "",
            "popup_max_height": null,
            "popup_max_width": 300,
            "draggable": true,
            "_view_module_version": "^0.15.0",
            "z_index_offset": 0,
            "title": "",
            "rise_on_hover": false,
            "options": [
              "alt",
              "draggable",
              "keyboard",
              "rise_offset",
              "rise_on_hover",
              "rotation_angle",
              "rotation_origin",
              "title",
              "z_index_offset"
            ]
          }
        },
        "403079cb497c44b4b952551a208bf378": {
          "model_module": "jupyter-leaflet",
          "model_name": "LeafletMapStyleModel",
          "model_module_version": "^0.15.0",
          "state": {
            "_view_name": "StyleView",
            "_model_name": "LeafletMapStyleModel",
            "_view_module": "@jupyter-widgets/base",
            "_model_module_version": "^0.15.0",
            "_view_count": null,
            "cursor": "move",
            "_view_module_version": "1.2.0",
            "_model_module": "jupyter-leaflet"
          }
        },
        "629b7b74476441a38bfad6d3e00b1b4f": {
          "model_module": "jupyter-leaflet",
          "model_name": "LeafletIconModel",
          "model_module_version": "^0.15.0",
          "state": {
            "_view_name": "LeafletIconView",
            "icon_anchor": null,
            "_view_module": "jupyter-leaflet",
            "_model_module_version": "^0.15.0",
            "_view_count": null,
            "shadow_size": null,
            "_model_module": "jupyter-leaflet",
            "bottom": false,
            "icon_url": "https://cdn-icons-png.flaticon.com/128/3382/3382438.png",
            "icon_size": [
              20,
              20
            ],
            "popup_min_width": 50,
            "popup": null,
            "popup_anchor": [
              0,
              0
            ],
            "_model_name": "LeafletIconModel",
            "shadow_url": null,
            "base": false,
            "name": "",
            "popup_max_height": null,
            "popup_max_width": 300,
            "shadow_anchor": null,
            "_view_module_version": "^0.15.0",
            "options": [
              "icon_anchor",
              "icon_size",
              "icon_url",
              "popup_anchor",
              "shadow_anchor",
              "shadow_size",
              "shadow_url"
            ]
          }
        }
      }
    }
  },
  "cells": [
    {
      "cell_type": "markdown",
      "metadata": {
        "id": "view-in-github",
        "colab_type": "text"
      },
      "source": [
        "<a href=\"https://colab.research.google.com/github/kikerodrivela/ProyectosPython/blob/main/MeasureDistances.ipynb\" target=\"_parent\"><img src=\"https://colab.research.google.com/assets/colab-badge.svg\" alt=\"Open In Colab\"/></a>"
      ]
    },
    {
      "cell_type": "code",
      "source": [
        "!pip install ipyleaflet"
      ],
      "metadata": {
        "colab": {
          "base_uri": "https://localhost:8080/"
        },
        "id": "gbDz4Lv7TPsC",
        "outputId": "47c530a8-fa3e-4296-e2b1-1264e98ceaaa"
      },
      "execution_count": 3,
      "outputs": [
        {
          "output_type": "stream",
          "name": "stdout",
          "text": [
            "Collecting ipyleaflet\n",
            "  Downloading ipyleaflet-0.15.0-py2.py3-none-any.whl (3.3 MB)\n",
            "\u001b[K     |████████████████████████████████| 3.3 MB 4.2 MB/s \n",
            "\u001b[?25hRequirement already satisfied: ipywidgets<8,>=7.6.0 in /usr/local/lib/python3.7/dist-packages (from ipyleaflet) (7.6.5)\n",
            "Collecting xyzservices>=2021.8.1\n",
            "  Downloading xyzservices-2022.1.1-py3-none-any.whl (35 kB)\n",
            "Collecting traittypes<3,>=0.2.1\n",
            "  Downloading traittypes-0.2.1-py2.py3-none-any.whl (8.6 kB)\n",
            "Requirement already satisfied: nbformat>=4.2.0 in /usr/local/lib/python3.7/dist-packages (from ipywidgets<8,>=7.6.0->ipyleaflet) (5.1.3)\n",
            "Requirement already satisfied: traitlets>=4.3.1 in /usr/local/lib/python3.7/dist-packages (from ipywidgets<8,>=7.6.0->ipyleaflet) (5.1.1)\n",
            "Requirement already satisfied: ipython>=4.0.0 in /usr/local/lib/python3.7/dist-packages (from ipywidgets<8,>=7.6.0->ipyleaflet) (5.5.0)\n",
            "Requirement already satisfied: widgetsnbextension~=3.5.0 in /usr/local/lib/python3.7/dist-packages (from ipywidgets<8,>=7.6.0->ipyleaflet) (3.5.2)\n",
            "Requirement already satisfied: jupyterlab-widgets>=1.0.0 in /usr/local/lib/python3.7/dist-packages (from ipywidgets<8,>=7.6.0->ipyleaflet) (1.0.2)\n",
            "Requirement already satisfied: ipykernel>=4.5.1 in /usr/local/lib/python3.7/dist-packages (from ipywidgets<8,>=7.6.0->ipyleaflet) (4.10.1)\n",
            "Requirement already satisfied: ipython-genutils~=0.2.0 in /usr/local/lib/python3.7/dist-packages (from ipywidgets<8,>=7.6.0->ipyleaflet) (0.2.0)\n",
            "Requirement already satisfied: jupyter-client in /usr/local/lib/python3.7/dist-packages (from ipykernel>=4.5.1->ipywidgets<8,>=7.6.0->ipyleaflet) (5.3.5)\n",
            "Requirement already satisfied: tornado>=4.0 in /usr/local/lib/python3.7/dist-packages (from ipykernel>=4.5.1->ipywidgets<8,>=7.6.0->ipyleaflet) (5.1.1)\n",
            "Requirement already satisfied: setuptools>=18.5 in /usr/local/lib/python3.7/dist-packages (from ipython>=4.0.0->ipywidgets<8,>=7.6.0->ipyleaflet) (57.4.0)\n",
            "Requirement already satisfied: pexpect in /usr/local/lib/python3.7/dist-packages (from ipython>=4.0.0->ipywidgets<8,>=7.6.0->ipyleaflet) (4.8.0)\n",
            "Requirement already satisfied: pygments in /usr/local/lib/python3.7/dist-packages (from ipython>=4.0.0->ipywidgets<8,>=7.6.0->ipyleaflet) (2.6.1)\n",
            "Requirement already satisfied: prompt-toolkit<2.0.0,>=1.0.4 in /usr/local/lib/python3.7/dist-packages (from ipython>=4.0.0->ipywidgets<8,>=7.6.0->ipyleaflet) (1.0.18)\n",
            "Requirement already satisfied: simplegeneric>0.8 in /usr/local/lib/python3.7/dist-packages (from ipython>=4.0.0->ipywidgets<8,>=7.6.0->ipyleaflet) (0.8.1)\n",
            "Requirement already satisfied: decorator in /usr/local/lib/python3.7/dist-packages (from ipython>=4.0.0->ipywidgets<8,>=7.6.0->ipyleaflet) (4.4.2)\n",
            "Requirement already satisfied: pickleshare in /usr/local/lib/python3.7/dist-packages (from ipython>=4.0.0->ipywidgets<8,>=7.6.0->ipyleaflet) (0.7.5)\n",
            "Requirement already satisfied: jsonschema!=2.5.0,>=2.4 in /usr/local/lib/python3.7/dist-packages (from nbformat>=4.2.0->ipywidgets<8,>=7.6.0->ipyleaflet) (4.3.3)\n",
            "Requirement already satisfied: jupyter-core in /usr/local/lib/python3.7/dist-packages (from nbformat>=4.2.0->ipywidgets<8,>=7.6.0->ipyleaflet) (4.9.1)\n",
            "Requirement already satisfied: typing-extensions in /usr/local/lib/python3.7/dist-packages (from jsonschema!=2.5.0,>=2.4->nbformat>=4.2.0->ipywidgets<8,>=7.6.0->ipyleaflet) (3.10.0.2)\n",
            "Requirement already satisfied: pyrsistent!=0.17.0,!=0.17.1,!=0.17.2,>=0.14.0 in /usr/local/lib/python3.7/dist-packages (from jsonschema!=2.5.0,>=2.4->nbformat>=4.2.0->ipywidgets<8,>=7.6.0->ipyleaflet) (0.18.1)\n",
            "Requirement already satisfied: importlib-metadata in /usr/local/lib/python3.7/dist-packages (from jsonschema!=2.5.0,>=2.4->nbformat>=4.2.0->ipywidgets<8,>=7.6.0->ipyleaflet) (4.10.1)\n",
            "Requirement already satisfied: attrs>=17.4.0 in /usr/local/lib/python3.7/dist-packages (from jsonschema!=2.5.0,>=2.4->nbformat>=4.2.0->ipywidgets<8,>=7.6.0->ipyleaflet) (21.4.0)\n",
            "Requirement already satisfied: importlib-resources>=1.4.0 in /usr/local/lib/python3.7/dist-packages (from jsonschema!=2.5.0,>=2.4->nbformat>=4.2.0->ipywidgets<8,>=7.6.0->ipyleaflet) (5.4.0)\n",
            "Requirement already satisfied: zipp>=3.1.0 in /usr/local/lib/python3.7/dist-packages (from importlib-resources>=1.4.0->jsonschema!=2.5.0,>=2.4->nbformat>=4.2.0->ipywidgets<8,>=7.6.0->ipyleaflet) (3.7.0)\n",
            "Requirement already satisfied: six>=1.9.0 in /usr/local/lib/python3.7/dist-packages (from prompt-toolkit<2.0.0,>=1.0.4->ipython>=4.0.0->ipywidgets<8,>=7.6.0->ipyleaflet) (1.15.0)\n",
            "Requirement already satisfied: wcwidth in /usr/local/lib/python3.7/dist-packages (from prompt-toolkit<2.0.0,>=1.0.4->ipython>=4.0.0->ipywidgets<8,>=7.6.0->ipyleaflet) (0.2.5)\n",
            "Requirement already satisfied: notebook>=4.4.1 in /usr/local/lib/python3.7/dist-packages (from widgetsnbextension~=3.5.0->ipywidgets<8,>=7.6.0->ipyleaflet) (5.3.1)\n",
            "Requirement already satisfied: Send2Trash in /usr/local/lib/python3.7/dist-packages (from notebook>=4.4.1->widgetsnbextension~=3.5.0->ipywidgets<8,>=7.6.0->ipyleaflet) (1.8.0)\n",
            "Requirement already satisfied: jinja2 in /usr/local/lib/python3.7/dist-packages (from notebook>=4.4.1->widgetsnbextension~=3.5.0->ipywidgets<8,>=7.6.0->ipyleaflet) (2.11.3)\n",
            "Requirement already satisfied: terminado>=0.8.1 in /usr/local/lib/python3.7/dist-packages (from notebook>=4.4.1->widgetsnbextension~=3.5.0->ipywidgets<8,>=7.6.0->ipyleaflet) (0.13.1)\n",
            "Requirement already satisfied: nbconvert in /usr/local/lib/python3.7/dist-packages (from notebook>=4.4.1->widgetsnbextension~=3.5.0->ipywidgets<8,>=7.6.0->ipyleaflet) (5.6.1)\n",
            "Requirement already satisfied: pyzmq>=13 in /usr/local/lib/python3.7/dist-packages (from jupyter-client->ipykernel>=4.5.1->ipywidgets<8,>=7.6.0->ipyleaflet) (22.3.0)\n",
            "Requirement already satisfied: python-dateutil>=2.1 in /usr/local/lib/python3.7/dist-packages (from jupyter-client->ipykernel>=4.5.1->ipywidgets<8,>=7.6.0->ipyleaflet) (2.8.2)\n",
            "Requirement already satisfied: ptyprocess in /usr/local/lib/python3.7/dist-packages (from terminado>=0.8.1->notebook>=4.4.1->widgetsnbextension~=3.5.0->ipywidgets<8,>=7.6.0->ipyleaflet) (0.7.0)\n",
            "Requirement already satisfied: MarkupSafe>=0.23 in /usr/local/lib/python3.7/dist-packages (from jinja2->notebook>=4.4.1->widgetsnbextension~=3.5.0->ipywidgets<8,>=7.6.0->ipyleaflet) (2.0.1)\n",
            "Requirement already satisfied: entrypoints>=0.2.2 in /usr/local/lib/python3.7/dist-packages (from nbconvert->notebook>=4.4.1->widgetsnbextension~=3.5.0->ipywidgets<8,>=7.6.0->ipyleaflet) (0.4)\n",
            "Requirement already satisfied: bleach in /usr/local/lib/python3.7/dist-packages (from nbconvert->notebook>=4.4.1->widgetsnbextension~=3.5.0->ipywidgets<8,>=7.6.0->ipyleaflet) (4.1.0)\n",
            "Requirement already satisfied: pandocfilters>=1.4.1 in /usr/local/lib/python3.7/dist-packages (from nbconvert->notebook>=4.4.1->widgetsnbextension~=3.5.0->ipywidgets<8,>=7.6.0->ipyleaflet) (1.5.0)\n",
            "Requirement already satisfied: mistune<2,>=0.8.1 in /usr/local/lib/python3.7/dist-packages (from nbconvert->notebook>=4.4.1->widgetsnbextension~=3.5.0->ipywidgets<8,>=7.6.0->ipyleaflet) (0.8.4)\n",
            "Requirement already satisfied: testpath in /usr/local/lib/python3.7/dist-packages (from nbconvert->notebook>=4.4.1->widgetsnbextension~=3.5.0->ipywidgets<8,>=7.6.0->ipyleaflet) (0.5.0)\n",
            "Requirement already satisfied: defusedxml in /usr/local/lib/python3.7/dist-packages (from nbconvert->notebook>=4.4.1->widgetsnbextension~=3.5.0->ipywidgets<8,>=7.6.0->ipyleaflet) (0.7.1)\n",
            "Requirement already satisfied: packaging in /usr/local/lib/python3.7/dist-packages (from bleach->nbconvert->notebook>=4.4.1->widgetsnbextension~=3.5.0->ipywidgets<8,>=7.6.0->ipyleaflet) (21.3)\n",
            "Requirement already satisfied: webencodings in /usr/local/lib/python3.7/dist-packages (from bleach->nbconvert->notebook>=4.4.1->widgetsnbextension~=3.5.0->ipywidgets<8,>=7.6.0->ipyleaflet) (0.5.1)\n",
            "Requirement already satisfied: pyparsing!=3.0.5,>=2.0.2 in /usr/local/lib/python3.7/dist-packages (from packaging->bleach->nbconvert->notebook>=4.4.1->widgetsnbextension~=3.5.0->ipywidgets<8,>=7.6.0->ipyleaflet) (3.0.7)\n",
            "Installing collected packages: xyzservices, traittypes, ipyleaflet\n",
            "Successfully installed ipyleaflet-0.15.0 traittypes-0.2.1 xyzservices-2022.1.1\n"
          ]
        }
      ]
    },
    {
      "cell_type": "code",
      "source": [
        "from ipyleaflet import *\n"
      ],
      "metadata": {
        "id": "aRkhv6ax6IcA"
      },
      "execution_count": 8,
      "outputs": []
    },
    {
      "cell_type": "code",
      "source": [
        "marker1 = (52.204793, 360.121558)\n",
        "center = (52.204793, 360.121558)\n",
        "marker2 = (52.201846902880014, 360.1270294189453)\n",
        "\n",
        "m = Map(center=center, zoom=16)\n",
        "icon = Icon(icon_url='https://cdn-icons-png.flaticon.com/128/3382/3382438.png', icon_size=[20, 20], draggable=True)\n",
        "mark = Marker(location=center, icon=icon, rotation_angle=90, rotation_origin='22px 94px')\n",
        "m.add_layer(mark);"
      ],
      "metadata": {
        "id": "msoCbJnH6Kc5"
      },
      "execution_count": 17,
      "outputs": []
    },
    {
      "cell_type": "code",
      "source": [
        "m"
      ],
      "metadata": {
        "colab": {
          "base_uri": "https://localhost:8080/",
          "height": 421,
          "referenced_widgets": [
            "94090ec19721482a9d8508c31077333d",
            "d1d13d5bae9b4711902e2fff3cc16cea",
            "f71263102ac04c158809fbf5eb745037",
            "b8522cdfa9e744489d800d581c4ebcb3",
            "372e23f90d2249308cf73e38a552965e",
            "6a6c8634cac14d9d8f0e43ccfd93ba5e",
            "a440c68437844b5abc1c53019290cabb",
            "a69175dfb6a445b588622417a9caae45",
            "403079cb497c44b4b952551a208bf378",
            "629b7b74476441a38bfad6d3e00b1b4f"
          ]
        },
        "id": "qnK0d4vs7Yth",
        "outputId": "78d68f5f-a4ec-4742-a073-dfe93e5d0c6c"
      },
      "execution_count": 16,
      "outputs": [
        {
          "output_type": "display_data",
          "data": {
            "application/vnd.jupyter.widget-view+json": {
              "model_id": "94090ec19721482a9d8508c31077333d",
              "version_minor": 0,
              "version_major": 2
            },
            "text/plain": [
              "Map(center=[52.204793, 360.121558], controls=(ZoomControl(options=['position', 'zoom_in_text', 'zoom_in_title'…"
            ]
          },
          "metadata": {
            "application/vnd.jupyter.widget-view+json": {
              "colab": {
                "custom_widget_manager": {
                  "url": "https://ssl.gstatic.com/colaboratory-static/widgets/colab-cdn-widget-manager/a8874ba6619b6106/manager.min.js"
                }
              }
            }
          }
        }
      ]
    }
  ]
}