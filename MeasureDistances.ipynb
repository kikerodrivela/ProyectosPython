{
  "nbformat": 4,
  "nbformat_minor": 0,
  "metadata": {
    "colab": {
      "name": "MeasureDistances.ipynb",
      "provenance": [],
      "collapsed_sections": [],
      "authorship_tag": "ABX9TyMDvknJauIPVN6OeSY8/MIe",
      "include_colab_link": true
    },
    "kernelspec": {
      "name": "python3",
      "display_name": "Python 3"
    },
    "language_info": {
      "name": "python"
    },
    "widgets": {
      "application/vnd.jupyter.widget-state+json": {
        "47b065d891a54b8bb8486a2cb659244c": {
          "model_module": "jupyter-leaflet",
          "model_name": "LeafletMapModel",
          "model_module_version": "^0.15.0",
          "state": {
            "_view_name": "LeafletMapView",
            "keyboard_pan_offset": 80,
            "right": 1573964,
            "tap": true,
            "_view_module": "jupyter-leaflet",
            "max_zoom": 18,
            "_model_module_version": "^0.15.0",
            "_view_count": null,
            "zoom_snap": 1,
            "min_zoom": 1,
            "bounce_at_zoom_limits": true,
            "keyboard": true,
            "north": 52.246931984439186,
            "scroll_wheel_zoom": false,
            "dragging": true,
            "_model_module": "jupyter-leaflet",
            "zoom_delta": 1,
            "close_popup_on_click": true,
            "fullscreen": false,
            "style": "IPY_MODEL_579fe3f05aca4258b07db291c0bc9f97",
            "layout": "IPY_MODEL_ce0e0e9ead5045249928705afb80c68c",
            "bottom": 345589,
            "prefer_canvas": false,
            "inertia_max_speed": 1500,
            "top": 345189,
            "box_zoom": true,
            "controls": [
              "IPY_MODEL_8fde0a472a7043d2896e45c75a225a71",
              "IPY_MODEL_30966189bbda46a1a31a3829a2d4b026"
            ],
            "default_style": "IPY_MODEL_579fe3f05aca4258b07db291c0bc9f97",
            "east": 360.37765502929693,
            "double_click_zoom": true,
            "interpolation": "bilinear",
            "layers": [
              "IPY_MODEL_7afe9fa13063466fa2a7a4c0139a35a6",
              "IPY_MODEL_9a1d5c0b1f0b4843a2a5c5bd1e468ca2",
              "IPY_MODEL_91969bb1318e436bba3cdb812b503303"
            ],
            "dragging_style": "IPY_MODEL_12ee22a563af4db9b73f6851e1a73e53",
            "_dom_classes": [],
            "zoom_animation_threshold": 4,
            "_model_name": "LeafletMapModel",
            "zoom_start": 12,
            "modisdate": "2022-02-06",
            "keyboard_zoom_offset": 1,
            "inertia_deceleration": 3000,
            "inertia": true,
            "crs": {
              "name": "EPSG3857",
              "custom": false
            },
            "center": [
              52.204793,
              360.121558
            ],
            "zoom": 12,
            "world_copy_jump": false,
            "_view_module_version": "^0.15.0",
            "window_url": "https://k9igdzvxugr-496ff2e9c6d22116-0-colab.googleusercontent.com/outputframe.html?vrz=colab-20220204-060054-RC00_426361649",
            "tap_tolerance": 15,
            "west": 180,
            "touch_zoom": true,
            "options": [
              "bounce_at_zoom_limits",
              "box_zoom",
              "center",
              "close_popup_on_click",
              "double_click_zoom",
              "dragging",
              "fullscreen",
              "inertia",
              "inertia_deceleration",
              "inertia_max_speed",
              "interpolation",
              "keyboard",
              "keyboard_pan_offset",
              "keyboard_zoom_offset",
              "max_zoom",
              "min_zoom",
              "prefer_canvas",
              "scroll_wheel_zoom",
              "tap",
              "tap_tolerance",
              "touch_zoom",
              "world_copy_jump",
              "zoom",
              "zoom_animation_threshold",
              "zoom_delta",
              "zoom_snap",
              "zoom_start"
            ],
            "south": 52.16277123080451,
            "left": 1572471
          }
        },
        "3ca23c8a34b841a08de1eed0a5ac7ea8": {
          "model_module": "jupyter-leaflet",
          "model_name": "LeafletMapStyleModel",
          "model_module_version": "^0.15.0",
          "state": {
            "_view_name": "StyleView",
            "_model_name": "LeafletMapStyleModel",
            "_view_module": "@jupyter-widgets/base",
            "_model_module_version": "^0.15.0",
            "_view_count": null,
            "cursor": "grab",
            "_view_module_version": "1.2.0",
            "_model_module": "jupyter-leaflet"
          }
        },
        "ce0e0e9ead5045249928705afb80c68c": {
          "model_module": "@jupyter-widgets/base",
          "model_name": "LayoutModel",
          "model_module_version": "1.2.0",
          "state": {
            "_view_name": "LayoutView",
            "grid_template_rows": null,
            "right": null,
            "justify_content": null,
            "_view_module": "@jupyter-widgets/base",
            "overflow": null,
            "_model_module_version": "1.2.0",
            "_view_count": null,
            "flex_flow": null,
            "width": null,
            "min_width": null,
            "border": null,
            "align_items": null,
            "bottom": null,
            "_model_module": "@jupyter-widgets/base",
            "top": null,
            "grid_column": null,
            "overflow_y": null,
            "overflow_x": null,
            "grid_auto_flow": null,
            "grid_area": null,
            "grid_template_columns": null,
            "flex": null,
            "_model_name": "LayoutModel",
            "justify_items": null,
            "grid_row": null,
            "max_height": null,
            "align_content": null,
            "visibility": null,
            "align_self": null,
            "height": null,
            "min_height": null,
            "padding": null,
            "grid_auto_rows": null,
            "grid_gap": null,
            "max_width": null,
            "order": null,
            "_view_module_version": "1.2.0",
            "grid_template_areas": null,
            "object_position": null,
            "object_fit": null,
            "grid_auto_columns": null,
            "margin": null,
            "display": null,
            "left": null
          }
        },
        "8fde0a472a7043d2896e45c75a225a71": {
          "model_module": "jupyter-leaflet",
          "model_name": "LeafletZoomControlModel",
          "model_module_version": "^0.15.0",
          "state": {
            "_view_name": "LeafletZoomControlView",
            "zoom_in_title": "Zoom in",
            "_model_name": "LeafletZoomControlModel",
            "_view_module": "jupyter-leaflet",
            "_model_module_version": "^0.15.0",
            "_view_count": null,
            "_view_module_version": "^0.15.0",
            "zoom_out_title": "Zoom out",
            "position": "topleft",
            "zoom_in_text": "+",
            "_model_module": "jupyter-leaflet",
            "options": [
              "position",
              "zoom_in_text",
              "zoom_in_title",
              "zoom_out_text",
              "zoom_out_title"
            ],
            "zoom_out_text": "-"
          }
        },
        "30966189bbda46a1a31a3829a2d4b026": {
          "model_module": "jupyter-leaflet",
          "model_name": "LeafletAttributionControlModel",
          "model_module_version": "^0.15.0",
          "state": {
            "_view_name": "LeafletAttributionControlView",
            "prefix": "ipyleaflet",
            "_model_name": "LeafletAttributionControlModel",
            "_view_module": "jupyter-leaflet",
            "_model_module_version": "^0.15.0",
            "_view_count": null,
            "_view_module_version": "^0.15.0",
            "position": "bottomright",
            "_model_module": "jupyter-leaflet",
            "options": [
              "position",
              "prefix"
            ]
          }
        },
        "579fe3f05aca4258b07db291c0bc9f97": {
          "model_module": "jupyter-leaflet",
          "model_name": "LeafletMapStyleModel",
          "model_module_version": "^0.15.0",
          "state": {
            "_view_name": "StyleView",
            "_model_name": "LeafletMapStyleModel",
            "_view_module": "@jupyter-widgets/base",
            "_model_module_version": "^0.15.0",
            "_view_count": null,
            "cursor": "grab",
            "_view_module_version": "1.2.0",
            "_model_module": "jupyter-leaflet"
          }
        },
        "7afe9fa13063466fa2a7a4c0139a35a6": {
          "model_module": "jupyter-leaflet",
          "model_name": "LeafletTileLayerModel",
          "model_module_version": "^0.15.0",
          "state": {
            "_view_name": "LeafletTileLayerView",
            "_view_module": "jupyter-leaflet",
            "max_zoom": 19,
            "_model_module_version": "^0.15.0",
            "_view_count": null,
            "visible": true,
            "min_zoom": 1,
            "tms": false,
            "_model_module": "jupyter-leaflet",
            "loading": false,
            "bottom": true,
            "no_wrap": false,
            "tile_size": 256,
            "popup_min_width": 50,
            "opacity": 1,
            "popup": null,
            "attribution": "Tiles &copy; Esri &mdash; Source: Esri, DeLorme, NAVTEQ, USGS, Intermap, iPC, NRCAN, Esri Japan, METI, Esri China (Hong Kong), Esri (Thailand), TomTom, 2012",
            "_model_name": "LeafletTileLayerModel",
            "max_native_zoom": 18,
            "base": true,
            "min_native_zoom": 0,
            "show_loading": false,
            "name": "Esri.WorldStreetMap",
            "url": "https://server.arcgisonline.com/ArcGIS/rest/services/World_Street_Map/MapServer/tile/{z}/{y}/{x}",
            "popup_max_height": null,
            "popup_max_width": 300,
            "detect_retina": false,
            "_view_module_version": "^0.15.0",
            "options": [
              "attribution",
              "detect_retina",
              "max_native_zoom",
              "max_zoom",
              "min_native_zoom",
              "min_zoom",
              "no_wrap",
              "tile_size",
              "tms"
            ]
          }
        },
        "9a1d5c0b1f0b4843a2a5c5bd1e468ca2": {
          "model_module": "jupyter-leaflet",
          "model_name": "LeafletMarkerModel",
          "model_module_version": "^0.15.0",
          "state": {
            "_view_name": "LeafletMarkerView",
            "rotation_angle": 90,
            "_view_module": "jupyter-leaflet",
            "_model_module_version": "^0.15.0",
            "_view_count": null,
            "visible": true,
            "keyboard": true,
            "alt": "",
            "_model_module": "jupyter-leaflet",
            "bottom": false,
            "location": [
              52.2175990227452,
              360.0978469848633
            ],
            "popup_min_width": 50,
            "opacity": 1,
            "popup": null,
            "_model_name": "LeafletMarkerModel",
            "rotation_origin": "22px 94px",
            "base": false,
            "icon": "IPY_MODEL_6a4ccdd3c8e34fbbbd7d39353b7a4bae",
            "rise_offset": 250,
            "name": "",
            "popup_max_height": null,
            "popup_max_width": 300,
            "draggable": true,
            "_view_module_version": "^0.15.0",
            "z_index_offset": 0,
            "title": "",
            "rise_on_hover": false,
            "options": [
              "alt",
              "draggable",
              "keyboard",
              "rise_offset",
              "rise_on_hover",
              "rotation_angle",
              "rotation_origin",
              "title",
              "z_index_offset"
            ]
          }
        },
        "91969bb1318e436bba3cdb812b503303": {
          "model_module": "jupyter-leaflet",
          "model_name": "LeafletMarkerModel",
          "model_module_version": "^0.15.0",
          "state": {
            "_view_name": "LeafletMarkerView",
            "rotation_angle": 0,
            "_view_module": "jupyter-leaflet",
            "_model_module_version": "^0.15.0",
            "_view_count": null,
            "visible": true,
            "keyboard": true,
            "alt": "",
            "_model_module": "jupyter-leaflet",
            "bottom": false,
            "location": [
              52.201846902880014,
              360.1270294189453
            ],
            "popup_min_width": 50,
            "opacity": 1,
            "popup": null,
            "_model_name": "LeafletMarkerModel",
            "rotation_origin": "",
            "base": false,
            "icon": "IPY_MODEL_6a4ccdd3c8e34fbbbd7d39353b7a4bae",
            "rise_offset": 250,
            "name": "",
            "popup_max_height": null,
            "popup_max_width": 300,
            "draggable": true,
            "_view_module_version": "^0.15.0",
            "z_index_offset": 0,
            "title": "",
            "rise_on_hover": false,
            "options": [
              "alt",
              "draggable",
              "keyboard",
              "rise_offset",
              "rise_on_hover",
              "rotation_angle",
              "rotation_origin",
              "title",
              "z_index_offset"
            ]
          }
        },
        "12ee22a563af4db9b73f6851e1a73e53": {
          "model_module": "jupyter-leaflet",
          "model_name": "LeafletMapStyleModel",
          "model_module_version": "^0.15.0",
          "state": {
            "_view_name": "StyleView",
            "_model_name": "LeafletMapStyleModel",
            "_view_module": "@jupyter-widgets/base",
            "_model_module_version": "^0.15.0",
            "_view_count": null,
            "cursor": "move",
            "_view_module_version": "1.2.0",
            "_model_module": "jupyter-leaflet"
          }
        },
        "6a4ccdd3c8e34fbbbd7d39353b7a4bae": {
          "model_module": "jupyter-leaflet",
          "model_name": "LeafletIconModel",
          "model_module_version": "^0.15.0",
          "state": {
            "_view_name": "LeafletIconView",
            "icon_anchor": null,
            "_view_module": "jupyter-leaflet",
            "_model_module_version": "^0.15.0",
            "_view_count": null,
            "shadow_size": null,
            "_model_module": "jupyter-leaflet",
            "bottom": false,
            "icon_url": "https://cdn-icons-png.flaticon.com/128/3382/3382438.png",
            "icon_size": [
              20,
              20
            ],
            "popup_min_width": 50,
            "popup": null,
            "popup_anchor": [
              0,
              0
            ],
            "_model_name": "LeafletIconModel",
            "shadow_url": null,
            "base": false,
            "name": "",
            "popup_max_height": null,
            "popup_max_width": 300,
            "shadow_anchor": null,
            "_view_module_version": "^0.15.0",
            "options": [
              "icon_anchor",
              "icon_size",
              "icon_url",
              "popup_anchor",
              "shadow_anchor",
              "shadow_size",
              "shadow_url"
            ]
          }
        }
      }
    }
  },
  "cells": [
    {
      "cell_type": "markdown",
      "metadata": {
        "id": "view-in-github",
        "colab_type": "text"
      },
      "source": [
        "<a href=\"https://colab.research.google.com/github/kikerodrivela/ProyectosPython/blob/main/MeasureDistances.ipynb\" target=\"_parent\"><img src=\"https://colab.research.google.com/assets/colab-badge.svg\" alt=\"Open In Colab\"/></a>"
      ]
    },
    {
      "cell_type": "code",
      "source": [
        "from ipyleaflet import *\n"
      ],
      "metadata": {
        "id": "aRkhv6ax6IcA"
      },
      "execution_count": 42,
      "outputs": []
    },
    {
      "cell_type": "code",
      "source": [
        "# Map properties\n",
        "center = (52.204793, 360.121558)\n",
        "zoom = 12\n",
        "m = Map(basemap=basemaps.Esri.WorldStreetMap, center=center, zoom=zoom)\n"
      ],
      "metadata": {
        "id": "uuzbVoeIUcrQ"
      },
      "execution_count": 43,
      "outputs": []
    },
    {
      "cell_type": "code",
      "source": [
        "marker1 = (52.2175990227452, 360.0978469848633)\n",
        "\n",
        "marker2 = (52.201846902880014, 360.1270294189453)\n",
        "\n",
        "icon = Icon(icon_url='https://cdn-icons-png.flaticon.com/128/3382/3382438.png', icon_size=[20, 20], draggable=True)\n",
        "marker1 = Marker(location=marker1, icon=icon, rotation_angle=90, rotation_origin='22px 94px')\n",
        "\n",
        "icon2 = Icon(icon_url='https://encrypted-tbn0.gstatic.com/images?q=tbn:ANd9GcQTUqN-bVxpmERQ1x2o3sSC6gS8DDP2NcIB6-5LexNhDIjXZstDtm21M0NldNcOEhYOcgM&usqp=CAU', icon_size=[20, 20], draggable=True)\n",
        "marker2 = Marker(location=marker2, icon=icon)\n",
        "\n",
        "m.add_layer(marker1);\n",
        "m.add_layer(marker2);"
      ],
      "metadata": {
        "id": "msoCbJnH6Kc5"
      },
      "execution_count": 44,
      "outputs": []
    },
    {
      "cell_type": "code",
      "source": [
        "m"
      ],
      "metadata": {
        "colab": {
          "base_uri": "https://localhost:8080/",
          "height": 421,
          "referenced_widgets": [
            "47b065d891a54b8bb8486a2cb659244c",
            "3ca23c8a34b841a08de1eed0a5ac7ea8",
            "ce0e0e9ead5045249928705afb80c68c",
            "8fde0a472a7043d2896e45c75a225a71",
            "30966189bbda46a1a31a3829a2d4b026",
            "579fe3f05aca4258b07db291c0bc9f97",
            "7afe9fa13063466fa2a7a4c0139a35a6",
            "9a1d5c0b1f0b4843a2a5c5bd1e468ca2",
            "91969bb1318e436bba3cdb812b503303",
            "12ee22a563af4db9b73f6851e1a73e53",
            "6a4ccdd3c8e34fbbbd7d39353b7a4bae"
          ]
        },
        "id": "qnK0d4vs7Yth",
        "outputId": "fcac83de-850c-4057-ce92-d23f280dba65"
      },
      "execution_count": 45,
      "outputs": [
        {
          "output_type": "display_data",
          "data": {
            "application/vnd.jupyter.widget-view+json": {
              "model_id": "47b065d891a54b8bb8486a2cb659244c",
              "version_minor": 0,
              "version_major": 2
            },
            "text/plain": [
              "Map(center=[52.204793, 360.121558], controls=(ZoomControl(options=['position', 'zoom_in_text', 'zoom_in_title'…"
            ]
          },
          "metadata": {
            "application/vnd.jupyter.widget-view+json": {
              "colab": {
                "custom_widget_manager": {
                  "url": "https://ssl.gstatic.com/colaboratory-static/widgets/colab-cdn-widget-manager/a8874ba6619b6106/manager.min.js"
                }
              }
            }
          }
        }
      ]
    }
  ]
}